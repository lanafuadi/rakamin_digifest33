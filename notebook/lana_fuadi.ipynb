{
 "cells": [
  {
   "cell_type": "markdown",
   "id": "ae0654e1",
   "metadata": {},
   "source": [
    "### Homework Rakamin Trial Class - Mini Case"
   ]
  },
  {
   "cell_type": "markdown",
   "id": "578645f2",
   "metadata": {},
   "source": [
    "# Mengukur Performa Penjualan Ritel Online"
   ]
  },
  {
   "cell_type": "markdown",
   "id": "ebf52fe7",
   "metadata": {},
   "source": [
    "## Load Data"
   ]
  },
  {
   "cell_type": "code",
   "execution_count": 57,
   "id": "6c4b0183",
   "metadata": {},
   "outputs": [],
   "source": [
    "import pandas as pd\n",
    "import datetime\n",
    "import matplotlib.pyplot as plt\n",
    "import seaborn as sns"
   ]
  },
  {
   "cell_type": "code",
   "execution_count": 28,
   "id": "59af1b33",
   "metadata": {},
   "outputs": [
    {
     "data": {
      "text/html": [
       "<div>\n",
       "<style scoped>\n",
       "    .dataframe tbody tr th:only-of-type {\n",
       "        vertical-align: middle;\n",
       "    }\n",
       "\n",
       "    .dataframe tbody tr th {\n",
       "        vertical-align: top;\n",
       "    }\n",
       "\n",
       "    .dataframe thead th {\n",
       "        text-align: right;\n",
       "    }\n",
       "</style>\n",
       "<table border=\"1\" class=\"dataframe\">\n",
       "  <thead>\n",
       "    <tr style=\"text-align: right;\">\n",
       "      <th></th>\n",
       "      <th>Invoice</th>\n",
       "      <th>StockCode</th>\n",
       "      <th>Description</th>\n",
       "      <th>Quantity</th>\n",
       "      <th>InvoiceDate</th>\n",
       "      <th>Price</th>\n",
       "      <th>Customer ID</th>\n",
       "      <th>Country</th>\n",
       "    </tr>\n",
       "  </thead>\n",
       "  <tbody>\n",
       "    <tr>\n",
       "      <th>0</th>\n",
       "      <td>489434</td>\n",
       "      <td>85048</td>\n",
       "      <td>15CM CHRISTMAS GLASS BALL 20 LIGHTS</td>\n",
       "      <td>12</td>\n",
       "      <td>2009-12-01 07:45:00</td>\n",
       "      <td>6.95</td>\n",
       "      <td>13085.0</td>\n",
       "      <td>United Kingdom</td>\n",
       "    </tr>\n",
       "    <tr>\n",
       "      <th>1</th>\n",
       "      <td>489434</td>\n",
       "      <td>79323P</td>\n",
       "      <td>PINK CHERRY LIGHTS</td>\n",
       "      <td>12</td>\n",
       "      <td>2009-12-01 07:45:00</td>\n",
       "      <td>6.75</td>\n",
       "      <td>13085.0</td>\n",
       "      <td>United Kingdom</td>\n",
       "    </tr>\n",
       "    <tr>\n",
       "      <th>2</th>\n",
       "      <td>489434</td>\n",
       "      <td>79323W</td>\n",
       "      <td>WHITE CHERRY LIGHTS</td>\n",
       "      <td>12</td>\n",
       "      <td>2009-12-01 07:45:00</td>\n",
       "      <td>6.75</td>\n",
       "      <td>13085.0</td>\n",
       "      <td>United Kingdom</td>\n",
       "    </tr>\n",
       "    <tr>\n",
       "      <th>3</th>\n",
       "      <td>489434</td>\n",
       "      <td>22041</td>\n",
       "      <td>RECORD FRAME 7\" SINGLE SIZE</td>\n",
       "      <td>48</td>\n",
       "      <td>2009-12-01 07:45:00</td>\n",
       "      <td>2.10</td>\n",
       "      <td>13085.0</td>\n",
       "      <td>United Kingdom</td>\n",
       "    </tr>\n",
       "    <tr>\n",
       "      <th>4</th>\n",
       "      <td>489434</td>\n",
       "      <td>21232</td>\n",
       "      <td>STRAWBERRY CERAMIC TRINKET BOX</td>\n",
       "      <td>24</td>\n",
       "      <td>2009-12-01 07:45:00</td>\n",
       "      <td>1.25</td>\n",
       "      <td>13085.0</td>\n",
       "      <td>United Kingdom</td>\n",
       "    </tr>\n",
       "  </tbody>\n",
       "</table>\n",
       "</div>"
      ],
      "text/plain": [
       "  Invoice StockCode                          Description  Quantity  \\\n",
       "0  489434     85048  15CM CHRISTMAS GLASS BALL 20 LIGHTS        12   \n",
       "1  489434    79323P                   PINK CHERRY LIGHTS        12   \n",
       "2  489434    79323W                  WHITE CHERRY LIGHTS        12   \n",
       "3  489434     22041         RECORD FRAME 7\" SINGLE SIZE         48   \n",
       "4  489434     21232       STRAWBERRY CERAMIC TRINKET BOX        24   \n",
       "\n",
       "           InvoiceDate  Price  Customer ID         Country  \n",
       "0  2009-12-01 07:45:00   6.95      13085.0  United Kingdom  \n",
       "1  2009-12-01 07:45:00   6.75      13085.0  United Kingdom  \n",
       "2  2009-12-01 07:45:00   6.75      13085.0  United Kingdom  \n",
       "3  2009-12-01 07:45:00   2.10      13085.0  United Kingdom  \n",
       "4  2009-12-01 07:45:00   1.25      13085.0  United Kingdom  "
      ]
     },
     "execution_count": 28,
     "metadata": {},
     "output_type": "execute_result"
    }
   ],
   "source": [
    "data = pd.read_csv('online_retail_II.csv')\n",
    "data.head()"
   ]
  },
  {
   "cell_type": "code",
   "execution_count": 124,
   "id": "e3eee139",
   "metadata": {},
   "outputs": [
    {
     "data": {
      "text/plain": [
       "247389"
      ]
     },
     "execution_count": 124,
     "metadata": {},
     "output_type": "execute_result"
    }
   ],
   "source": [
    "data.isna().sum().sum()"
   ]
  },
  {
   "cell_type": "code",
   "execution_count": 123,
   "id": "ca58ca18",
   "metadata": {},
   "outputs": [
    {
     "data": {
      "text/plain": [
       "34335"
      ]
     },
     "execution_count": 123,
     "metadata": {},
     "output_type": "execute_result"
    }
   ],
   "source": [
    "data.duplicated().sum().sum()"
   ]
  },
  {
   "cell_type": "markdown",
   "id": "794e2063",
   "metadata": {},
   "source": [
    "## Section 1"
   ]
  },
  {
   "cell_type": "markdown",
   "id": "0ead195f",
   "metadata": {},
   "source": [
    "### Create New Feature: Year"
   ]
  },
  {
   "cell_type": "code",
   "execution_count": 125,
   "id": "5a1281e7",
   "metadata": {},
   "outputs": [
    {
     "data": {
      "text/html": [
       "<div>\n",
       "<style scoped>\n",
       "    .dataframe tbody tr th:only-of-type {\n",
       "        vertical-align: middle;\n",
       "    }\n",
       "\n",
       "    .dataframe tbody tr th {\n",
       "        vertical-align: top;\n",
       "    }\n",
       "\n",
       "    .dataframe thead th {\n",
       "        text-align: right;\n",
       "    }\n",
       "</style>\n",
       "<table border=\"1\" class=\"dataframe\">\n",
       "  <thead>\n",
       "    <tr style=\"text-align: right;\">\n",
       "      <th></th>\n",
       "      <th>Invoice</th>\n",
       "      <th>StockCode</th>\n",
       "      <th>Description</th>\n",
       "      <th>Quantity</th>\n",
       "      <th>InvoiceDate</th>\n",
       "      <th>Price</th>\n",
       "      <th>Customer ID</th>\n",
       "      <th>Country</th>\n",
       "      <th>Year</th>\n",
       "      <th>Revenue</th>\n",
       "    </tr>\n",
       "  </thead>\n",
       "  <tbody>\n",
       "    <tr>\n",
       "      <th>0</th>\n",
       "      <td>489434</td>\n",
       "      <td>85048</td>\n",
       "      <td>15CM CHRISTMAS GLASS BALL 20 LIGHTS</td>\n",
       "      <td>12</td>\n",
       "      <td>2009-12-01 07:45:00</td>\n",
       "      <td>6.95</td>\n",
       "      <td>13085.0</td>\n",
       "      <td>United Kingdom</td>\n",
       "      <td>2009</td>\n",
       "      <td>83.4</td>\n",
       "    </tr>\n",
       "    <tr>\n",
       "      <th>1</th>\n",
       "      <td>489434</td>\n",
       "      <td>79323P</td>\n",
       "      <td>PINK CHERRY LIGHTS</td>\n",
       "      <td>12</td>\n",
       "      <td>2009-12-01 07:45:00</td>\n",
       "      <td>6.75</td>\n",
       "      <td>13085.0</td>\n",
       "      <td>United Kingdom</td>\n",
       "      <td>2009</td>\n",
       "      <td>81.0</td>\n",
       "    </tr>\n",
       "    <tr>\n",
       "      <th>2</th>\n",
       "      <td>489434</td>\n",
       "      <td>79323W</td>\n",
       "      <td>WHITE CHERRY LIGHTS</td>\n",
       "      <td>12</td>\n",
       "      <td>2009-12-01 07:45:00</td>\n",
       "      <td>6.75</td>\n",
       "      <td>13085.0</td>\n",
       "      <td>United Kingdom</td>\n",
       "      <td>2009</td>\n",
       "      <td>81.0</td>\n",
       "    </tr>\n",
       "    <tr>\n",
       "      <th>3</th>\n",
       "      <td>489434</td>\n",
       "      <td>22041</td>\n",
       "      <td>RECORD FRAME 7\" SINGLE SIZE</td>\n",
       "      <td>48</td>\n",
       "      <td>2009-12-01 07:45:00</td>\n",
       "      <td>2.10</td>\n",
       "      <td>13085.0</td>\n",
       "      <td>United Kingdom</td>\n",
       "      <td>2009</td>\n",
       "      <td>100.8</td>\n",
       "    </tr>\n",
       "    <tr>\n",
       "      <th>4</th>\n",
       "      <td>489434</td>\n",
       "      <td>21232</td>\n",
       "      <td>STRAWBERRY CERAMIC TRINKET BOX</td>\n",
       "      <td>24</td>\n",
       "      <td>2009-12-01 07:45:00</td>\n",
       "      <td>1.25</td>\n",
       "      <td>13085.0</td>\n",
       "      <td>United Kingdom</td>\n",
       "      <td>2009</td>\n",
       "      <td>30.0</td>\n",
       "    </tr>\n",
       "  </tbody>\n",
       "</table>\n",
       "</div>"
      ],
      "text/plain": [
       "  Invoice StockCode                          Description  Quantity  \\\n",
       "0  489434     85048  15CM CHRISTMAS GLASS BALL 20 LIGHTS        12   \n",
       "1  489434    79323P                   PINK CHERRY LIGHTS        12   \n",
       "2  489434    79323W                  WHITE CHERRY LIGHTS        12   \n",
       "3  489434     22041         RECORD FRAME 7\" SINGLE SIZE         48   \n",
       "4  489434     21232       STRAWBERRY CERAMIC TRINKET BOX        24   \n",
       "\n",
       "          InvoiceDate  Price  Customer ID         Country  Year  Revenue  \n",
       "0 2009-12-01 07:45:00   6.95      13085.0  United Kingdom  2009     83.4  \n",
       "1 2009-12-01 07:45:00   6.75      13085.0  United Kingdom  2009     81.0  \n",
       "2 2009-12-01 07:45:00   6.75      13085.0  United Kingdom  2009     81.0  \n",
       "3 2009-12-01 07:45:00   2.10      13085.0  United Kingdom  2009    100.8  \n",
       "4 2009-12-01 07:45:00   1.25      13085.0  United Kingdom  2009     30.0  "
      ]
     },
     "execution_count": 125,
     "metadata": {},
     "output_type": "execute_result"
    }
   ],
   "source": [
    "# Ubah tipe data kolom InvoiceDate menjadi tipe 'datetime'\n",
    "data['InvoiceDate'] = pd.to_datetime(data['InvoiceDate'])\n",
    "\n",
    "# Buat kolom baru 'Year' yang berisi nilai tahun dari kolom InvoiceDate\n",
    "data['Year'] = pd.DatetimeIndex(data['InvoiceDate']).year\n",
    "data.head()"
   ]
  },
  {
   "cell_type": "markdown",
   "id": "9a9f5438",
   "metadata": {},
   "source": [
    "### Filtering Data"
   ]
  },
  {
   "cell_type": "code",
   "execution_count": 30,
   "id": "547a9e99",
   "metadata": {},
   "outputs": [],
   "source": [
    "# Buat variabel baru dengan ketentuan Quantity tidak boleh 0 dan Invoice tidak mengandung huruf C\n",
    "sales = data[(data['Quantity'] > 0) & (~data['Invoice'].str.contains('C'))]"
   ]
  },
  {
   "cell_type": "markdown",
   "id": "0bef109f",
   "metadata": {},
   "source": [
    "### Create New Feature: Revenue"
   ]
  },
  {
   "cell_type": "code",
   "execution_count": 31,
   "id": "9a670915",
   "metadata": {},
   "outputs": [],
   "source": [
    "# Buat kolom baru bernama Revenue dengan nilai Quantity dikali dengan Price\n",
    "data['Revenue'] = data['Quantity'] * data['Price']\n"
   ]
  },
  {
   "cell_type": "markdown",
   "id": "c955f053",
   "metadata": {},
   "source": [
    "### Average of Revenue per Year"
   ]
  },
  {
   "cell_type": "code",
   "execution_count": 104,
   "id": "23685f13",
   "metadata": {},
   "outputs": [
    {
     "data": {
      "text/html": [
       "<div>\n",
       "<style scoped>\n",
       "    .dataframe tbody tr th:only-of-type {\n",
       "        vertical-align: middle;\n",
       "    }\n",
       "\n",
       "    .dataframe tbody tr th {\n",
       "        vertical-align: top;\n",
       "    }\n",
       "\n",
       "    .dataframe thead th {\n",
       "        text-align: right;\n",
       "    }\n",
       "</style>\n",
       "<table border=\"1\" class=\"dataframe\">\n",
       "  <thead>\n",
       "    <tr style=\"text-align: right;\">\n",
       "      <th></th>\n",
       "      <th>Year</th>\n",
       "      <th>Revenue</th>\n",
       "    </tr>\n",
       "  </thead>\n",
       "  <tbody>\n",
       "    <tr>\n",
       "      <th>0</th>\n",
       "      <td>2009</td>\n",
       "      <td>17.684777</td>\n",
       "    </tr>\n",
       "    <tr>\n",
       "      <th>1</th>\n",
       "      <td>2010</td>\n",
       "      <td>18.152555</td>\n",
       "    </tr>\n",
       "    <tr>\n",
       "      <th>2</th>\n",
       "      <td>2011</td>\n",
       "      <td>18.018195</td>\n",
       "    </tr>\n",
       "  </tbody>\n",
       "</table>\n",
       "</div>"
      ],
      "text/plain": [
       "   Year    Revenue\n",
       "0  2009  17.684777\n",
       "1  2010  18.152555\n",
       "2  2011  18.018195"
      ]
     },
     "execution_count": 104,
     "metadata": {},
     "output_type": "execute_result"
    }
   ],
   "source": [
    "# Menghitung rata-rata Revenue per tahun\n",
    "avg_revenue = data.groupby(data['Year'])['Revenue'].mean().reset_index()\n",
    "\n",
    "avg_revenue\n"
   ]
  },
  {
   "cell_type": "code",
   "execution_count": 107,
   "id": "4a1c5e7b",
   "metadata": {},
   "outputs": [
    {
     "data": {
      "image/png": "[encoded data removed]",
      "text/plain": [
       "<Figure size 640x480 with 1 Axes>"
      ]
     },
     "metadata": {},
     "output_type": "display_data"
    }
   ],
   "source": [
    "# Mengubah kolom Year menjadi tipe data datetime dengan format '%Y'\n",
    "avg_revenue['Year'] = pd.to_datetime(avg_revenue['Year'], format='%Y')\n",
    "\n",
    "# Membuat plot line\n",
    "plt.plot(avg_revenue['Year'].dt.strftime('%Y'), avg_revenue['Revenue'], marker='o')\n",
    "\n",
    "# Memberikan judul pada plot dan sumbu x serta y\n",
    "plt.title('Average Revenue per Year')\n",
    "plt.xlabel('Year')\n",
    "plt.ylabel('Revenue')\n",
    "\n",
    "# Menampilkan plot\n",
    "plt.show()\n"
   ]
  },
  {
   "cell_type": "markdown",
   "id": "8823e17c",
   "metadata": {},
   "source": [
    "### Interpretation"
   ]
  },
  {
   "attachments": {},
   "cell_type": "markdown",
   "id": "3739a278",
   "metadata": {},
   "source": [
    "rata-rata revenue tertinggi terjadi pada tahun 2010, di mana kenaikan dari tahun sebelumnya cukup signifikan. sedangkan pada tahun 2011 terjadi sedikit penurunan sehingga perlu diadakan pengujian lebih lanjut penyebab terjadinya penurunan tersebut."
   ]
  },
  {
   "cell_type": "markdown",
   "id": "4ff5f5d4",
   "metadata": {},
   "source": [
    "## Section 2"
   ]
  },
  {
   "cell_type": "markdown",
   "id": "8dadd5ef",
   "metadata": {},
   "source": [
    "### Filtering Data "
   ]
  },
  {
   "cell_type": "markdown",
   "id": "2c053fd2",
   "metadata": {},
   "source": [
    "#### Customers who finished their purchases"
   ]
  },
  {
   "cell_type": "code",
   "execution_count": 131,
   "id": "d992a159",
   "metadata": {},
   "outputs": [
    {
     "data": {
      "text/plain": [
       "(805620, 10)"
      ]
     },
     "execution_count": 131,
     "metadata": {},
     "output_type": "execute_result"
    }
   ],
   "source": [
    "finished = data[(data['Quantity'] > 0) & data['Customer ID'].notnull() & (~data['Invoice'].str.contains('C'))]\n",
    "finished.shape"
   ]
  },
  {
   "cell_type": "markdown",
   "id": "136b9900",
   "metadata": {},
   "source": [
    "#### Customers who canceled their purchases"
   ]
  },
  {
   "cell_type": "code",
   "execution_count": 135,
   "id": "98af92ed",
   "metadata": {},
   "outputs": [
    {
     "data": {
      "text/plain": [
       "(18744, 10)"
      ]
     },
     "execution_count": 135,
     "metadata": {},
     "output_type": "execute_result"
    }
   ],
   "source": [
    "cancelled = data[data['Customer ID'].notnull() & (data['Invoice'].str.contains('C'))]\n",
    "cancelled.shape"
   ]
  },
  {
   "cell_type": "markdown",
   "id": "d3fbb31a",
   "metadata": {},
   "source": [
    "### Number of Finished and Canceled Transactions Each Year"
   ]
  },
  {
   "cell_type": "code",
   "execution_count": 136,
   "id": "04158c66",
   "metadata": {},
   "outputs": [
    {
     "data": {
      "text/plain": [
       "Year\n",
       "2009     30761\n",
       "2010    403094\n",
       "2011    371765\n",
       "Name: Invoice, dtype: int64"
      ]
     },
     "execution_count": 136,
     "metadata": {},
     "output_type": "execute_result"
    }
   ],
   "source": [
    "# Mengelompokkan jumlah transaksi yang berhasil dan dibatalkan per tahun\n",
    "finished_by_year = finished.groupby(finished['Year'])['Invoice'].count()\n",
    "finished_by_year"
   ]
  },
  {
   "cell_type": "code",
   "execution_count": 137,
   "id": "466152b7",
   "metadata": {},
   "outputs": [
    {
     "data": {
      "text/plain": [
       "Year\n",
       "2009     999\n",
       "2010    9530\n",
       "2011    8215\n",
       "Name: Invoice, dtype: int64"
      ]
     },
     "execution_count": 137,
     "metadata": {},
     "output_type": "execute_result"
    }
   ],
   "source": [
    "cancelled_by_year = cancelled.groupby(cancel['Year'])['Invoice'].count()\n",
    "cancelled_by_year"
   ]
  },
  {
   "cell_type": "code",
   "execution_count": 138,
   "id": "4c27bf62",
   "metadata": {},
   "outputs": [
    {
     "data": {
      "image/png": "[encoded data removed]",
      "text/plain": [
       "<Figure size 640x480 with 1 Axes>"
      ]
     },
     "metadata": {},
     "output_type": "display_data"
    }
   ],
   "source": [
    "# Menggabungkan jumlah transaksi yang berhasil dan dibatalkan per tahun\n",
    "transactions_by_year = pd.concat([finished_by_year, cancelled_by_year], axis=1).fillna(0)\n",
    "transactions_by_year.columns = ['Finished', 'Cancelled']\n",
    "\n",
    "# Membuat plot stacked bar chart\n",
    "transactions_by_year.plot(kind='bar', stacked=True)\n",
    "\n",
    "# Memberikan judul pada plot dan sumbu x serta y\n",
    "plt.title('Transactions by Year')\n",
    "plt.xlabel('Year')\n",
    "plt.ylabel('Number of Transactions')\n",
    "\n",
    "# Menampilkan plot\n",
    "plt.show()\n"
   ]
  },
  {
   "cell_type": "markdown",
   "id": "158f85e3",
   "metadata": {},
   "source": [
    "### Cancellation Rate"
   ]
  },
  {
   "cell_type": "code",
   "execution_count": 139,
   "id": "ca8edaa1",
   "metadata": {},
   "outputs": [
    {
     "data": {
      "text/plain": [
       "Year\n",
       "2009    2.208809\n",
       "2010    1.823177\n",
       "2011    1.644878\n",
       "Name: Invoice, dtype: float64"
      ]
     },
     "execution_count": 139,
     "metadata": {},
     "output_type": "execute_result"
    }
   ],
   "source": [
    "# Menghitung jumlah customer yang melakukan pembatalan dan jumlah seluruh customer per tahun\n",
    "cancelled_customers_by_year = cancel.groupby(cancel['Year'])['Invoice'].count()\n",
    "total_customers_by_year = data.groupby(data['Year'])['Invoice'].count()\n",
    "\n",
    "# Menghitung cancellation rate untuk setiap tahun\n",
    "cancellation_rate_by_year = (cancelled_customers_by_year / total_customers_by_year) * 100\n",
    "cancellation_rate_by_year = cancellation_rate_by_year.fillna(0)\n",
    "cancellation_rate_by_year\n"
   ]
  },
  {
   "cell_type": "code",
   "execution_count": 140,
   "id": "92f78a9e",
   "metadata": {},
   "outputs": [
    {
     "data": {
      "image/png": "[encoded data removed]",
      "text/plain": [
       "<Figure size 640x480 with 1 Axes>"
      ]
     },
     "metadata": {},
     "output_type": "display_data"
    }
   ],
   "source": [
    "# Membuat plot bar chart\n",
    "plt.bar(cancellation_rate_by_year.index.astype(str), cancellation_rate_by_year)\n",
    "\n",
    "# Memberikan judul pada plot dan sumbu x serta y\n",
    "plt.title('Cancellation Rate by Year')\n",
    "plt.xlabel('Year')\n",
    "plt.ylabel('Cancellation Rate (%)')\n",
    "\n",
    "# Menampilkan plot\n",
    "plt.show()"
   ]
  },
  {
   "cell_type": "markdown",
   "id": "8866bcd4",
   "metadata": {},
   "source": [
    "### Interpretation"
   ]
  },
  {
   "attachments": {},
   "cell_type": "markdown",
   "id": "09c84168",
   "metadata": {},
   "source": [
    "1. jumlah transaksi setiap tahun cenderung meningkat dengan peningkatan ekstrim pada tahun 2010.\n",
    "2. sebaliknya, cancellation rate justru semakin menurun setiap tahunnya.\n",
    "3. pada tahun 2011 tejadi sedikit penurunan jumlah transaksi, maka perlu diadakan evaluasi untuk mencegah penuurunan pada tahun berikutnya."
   ]
  },
  {
   "cell_type": "markdown",
   "id": "a88c3903",
   "metadata": {},
   "source": []
  }
 ],
 "metadata": {
  "kernelspec": {
   "display_name": "Python 3 (ipykernel)",
   "language": "python",
   "name": "python3"
  },
  "language_info": {
   "codemirror_mode": {
    "name": "ipython",
    "version": 3
   },
   "file_extension": ".py",
   "mimetype": "text/x-python",
   "name": "python",
   "nbconvert_exporter": "python",
   "pygments_lexer": "ipython3",
   "version": "3.11.2"
  }
 },
 "nbformat": 4,
 "nbformat_minor": 5
}
